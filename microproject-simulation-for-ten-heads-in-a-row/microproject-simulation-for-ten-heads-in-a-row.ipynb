{
 "cells": [
  {
   "attachments": {},
   "cell_type": "markdown",
   "metadata": {},
   "source": [
    "<h1 style=\"text-align: center\">\n",
    "<div style=\"color: #DD3403; font-size: 60%\">Data Science DISCOVERY MicroProject</div>\n",
    "<span style=\"\">MicroProject: Simulation for Ten Heads in a Row</span>\n",
    "<div style=\"font-size: 60%;\"><a href=\"https://discovery.cs.illinois.edu/microproject/simulation-for-ten-heads-in-a-row/\">https://discovery.cs.illinois.edu/microproject/simulation-for-ten-heads-in-a-row/</a></div>\n",
    "</h1>\n",
    "\n",
    "<hr style=\"color: #DD3403;\">"
   ]
  },
  {
   "cell_type": "markdown",
   "metadata": {},
   "source": [
    "## Data Source: Your Simulation of Flipping a Coin\n",
    "\n",
    "Simulation is a powerful tool that allows us to run a event with a probabilistic outcome millions of times in under a second.  In this MicroProject, you will use simple simulation to flip a coin a million times and discover how to find trends in the simulated data.  After writing this simulation, you will do analysis that compile data over multiple observation -- a simple form of time-series analysis -- to find if the statistical probability of events measure the simulated probability.\n",
    "\n",
    "### Create Your Simulation\n",
    "\n",
    "Create a simulation of flipping a fair coin 1,000,000 times.  Record an `\"H\"` for heads (50%) and a `\"T\"` for tails (50%), store the coin flip result in a column called `flip`, and store all 1,000,000 observations in a DataFrame `df`.\n",
    "\n",
    "- Not sure how to write a simulation?  See the [DISCOVERY lecture notes on \"Simple Simulations in Python\"](http://localhost:8080/learn/Simulation-and-Distributions/Simple-Simulations-in-Python/) for complete details on the six steps in writing this simulation!"
   ]
  },
  {
   "cell_type": "code",
   "execution_count": 88,
   "metadata": {},
   "outputs": [],
   "source": [
    "import pandas as pd\n",
    "import random\n",
    "# Simulation:\n",
    "data = []\n",
    "for i in range(1000000):\n",
    "    n = random.choice([\"H\", \"T\"])\n",
    "    d = {\"flip\": n}\n",
    "    data.append(d)\n",
    "df = pd.DataFrame(data)"
   ]
  },
  {
   "cell_type": "code",
   "execution_count": 89,
   "metadata": {},
   "outputs": [
    {
     "data": {
      "text/html": [
       "<div>\n",
       "<style scoped>\n",
       "    .dataframe tbody tr th:only-of-type {\n",
       "        vertical-align: middle;\n",
       "    }\n",
       "\n",
       "    .dataframe tbody tr th {\n",
       "        vertical-align: top;\n",
       "    }\n",
       "\n",
       "    .dataframe thead th {\n",
       "        text-align: right;\n",
       "    }\n",
       "</style>\n",
       "<table border=\"1\" class=\"dataframe\">\n",
       "  <thead>\n",
       "    <tr style=\"text-align: right;\">\n",
       "      <th></th>\n",
       "      <th>flip</th>\n",
       "    </tr>\n",
       "  </thead>\n",
       "  <tbody>\n",
       "    <tr>\n",
       "      <th>0</th>\n",
       "      <td>T</td>\n",
       "    </tr>\n",
       "    <tr>\n",
       "      <th>1</th>\n",
       "      <td>T</td>\n",
       "    </tr>\n",
       "    <tr>\n",
       "      <th>2</th>\n",
       "      <td>T</td>\n",
       "    </tr>\n",
       "    <tr>\n",
       "      <th>3</th>\n",
       "      <td>H</td>\n",
       "    </tr>\n",
       "    <tr>\n",
       "      <th>4</th>\n",
       "      <td>H</td>\n",
       "    </tr>\n",
       "    <tr>\n",
       "      <th>...</th>\n",
       "      <td>...</td>\n",
       "    </tr>\n",
       "    <tr>\n",
       "      <th>999995</th>\n",
       "      <td>T</td>\n",
       "    </tr>\n",
       "    <tr>\n",
       "      <th>999996</th>\n",
       "      <td>H</td>\n",
       "    </tr>\n",
       "    <tr>\n",
       "      <th>999997</th>\n",
       "      <td>T</td>\n",
       "    </tr>\n",
       "    <tr>\n",
       "      <th>999998</th>\n",
       "      <td>T</td>\n",
       "    </tr>\n",
       "    <tr>\n",
       "      <th>999999</th>\n",
       "      <td>T</td>\n",
       "    </tr>\n",
       "  </tbody>\n",
       "</table>\n",
       "<p>1000000 rows × 1 columns</p>\n",
       "</div>"
      ],
      "text/plain": [
       "       flip\n",
       "0         T\n",
       "1         T\n",
       "2         T\n",
       "3         H\n",
       "4         H\n",
       "...     ...\n",
       "999995    T\n",
       "999996    H\n",
       "999997    T\n",
       "999998    T\n",
       "999999    T\n",
       "\n",
       "[1000000 rows x 1 columns]"
      ]
     },
     "execution_count": 89,
     "metadata": {},
     "output_type": "execute_result"
    }
   ],
   "source": [
    "df"
   ]
  },
  {
   "cell_type": "markdown",
   "metadata": {},
   "source": [
    "### 🔬 Checkpoint Tests 🔬"
   ]
  },
  {
   "cell_type": "code",
   "execution_count": 90,
   "metadata": {},
   "outputs": [
    {
     "name": "stdout",
     "output_type": "stream",
     "text": [
      "🎉 All Tests Passed! 🎉\n"
     ]
    }
   ],
   "source": [
    "## == CHECKPOINT TESTS ==\n",
    "# - This read-only cell contains a \"checkpoint\" for this section of the MicroProejct and verifies you are on the right track.\n",
    "# - If this cell results in a celebration message, you PASSED all test cases!\n",
    "# - If this cell results in any errors, check you previous cells, make changes, and RE-RUN your code and then this cell.\n",
    "tada = \"\\N{PARTY POPPER}\"\n",
    "\n",
    "assert(\"df\" in vars())\n",
    "assert(\"flip\" in df)\n",
    "assert(len(df[df.flip == \"H\"]) > 400000)\n",
    "assert(len(df[df.flip == \"T\"]) > 400000)\n",
    "assert(len(df[df.flip == \"H\"]) + len(df[df.flip == \"T\"]) == 1e6)\n",
    "\n",
    "print(f\"{tada} All Tests Passed! {tada}\")"
   ]
  },
  {
   "cell_type": "markdown",
   "metadata": {},
   "source": [
    "<hr style=\"color: #DD3403;\">"
   ]
  },
  {
   "cell_type": "markdown",
   "metadata": {},
   "source": [
    "## Finding the Two-Coin Sequence\n",
    "\n",
    "The chance of getting a fair coin to land on \"heads\" is 50% -- but how common is it to get 2 heads in a row?  Before we write the Python code to find the simulated probability, let's calculate the true probability.\n",
    "\n",
    "### Statistical Probability of Two Heads\n",
    "\n",
    "In the cell below, calculate `P_twoheads` to the the probability of flipping two fair coins and they both land on heads:"
   ]
  },
  {
   "cell_type": "code",
   "execution_count": 91,
   "metadata": {},
   "outputs": [
    {
     "data": {
      "text/plain": [
       "0.25"
      ]
     },
     "execution_count": 91,
     "metadata": {},
     "output_type": "execute_result"
    }
   ],
   "source": [
    "P_twoheads = 0.5*0.5\n",
    "P_twoheads"
   ]
  },
  {
   "cell_type": "markdown",
   "metadata": {},
   "source": [
    "### Sequences of Two Heads\n",
    "\n",
    "To find the simulated probability of two heads, we need to observe **sequences of two coin flips**.  Instead of writing a new simulation, we will calculate each two-coin sequence by evaluating every row and calculating the sequence that includes:\n",
    "\n",
    "- The result of the current observation's coin flip\n",
    "- The result of the previous observation's coin flip\n",
    "\n",
    "For each observation of the simulation, create a new column called `seq2` that contains the two coin sequence as described above (ex: `HH`, `HT`, `TH`, or `TT`).\n",
    "\n",
    "***Unsure about how to get the previous observation's coin flip?***  Read the DISCOVERY guide \"Using Previous Observations when Computation Values in a DataFrame\" to find out more on how to use a previous observation's value with the `shift` function in your formula:\n",
    "- [Guide: \"Using Previous Observations when Computation Values in a DataFrame\"](https://discovery.cs.illinois.edu/guides/DataFrame-Fundamentals/Using-Previous-Observations-when-Computation-Values/)"
   ]
  },
  {
   "cell_type": "code",
   "execution_count": 92,
   "metadata": {},
   "outputs": [],
   "source": [
    "df[\"seq2\"] = df.flip + df.flip.shift(1)"
   ]
  },
  {
   "cell_type": "markdown",
   "metadata": {},
   "source": [
    "### Simulated Probability of Two Heads\n",
    "\n",
    "Create a new DataFrame called `df_twoheads` that contains all the rows that contain a sequence of two heads:"
   ]
  },
  {
   "cell_type": "code",
   "execution_count": 93,
   "metadata": {},
   "outputs": [
    {
     "data": {
      "text/html": [
       "<div>\n",
       "<style scoped>\n",
       "    .dataframe tbody tr th:only-of-type {\n",
       "        vertical-align: middle;\n",
       "    }\n",
       "\n",
       "    .dataframe tbody tr th {\n",
       "        vertical-align: top;\n",
       "    }\n",
       "\n",
       "    .dataframe thead th {\n",
       "        text-align: right;\n",
       "    }\n",
       "</style>\n",
       "<table border=\"1\" class=\"dataframe\">\n",
       "  <thead>\n",
       "    <tr style=\"text-align: right;\">\n",
       "      <th></th>\n",
       "      <th>flip</th>\n",
       "      <th>seq2</th>\n",
       "    </tr>\n",
       "  </thead>\n",
       "  <tbody>\n",
       "    <tr>\n",
       "      <th>4</th>\n",
       "      <td>H</td>\n",
       "      <td>HH</td>\n",
       "    </tr>\n",
       "    <tr>\n",
       "      <th>5</th>\n",
       "      <td>H</td>\n",
       "      <td>HH</td>\n",
       "    </tr>\n",
       "    <tr>\n",
       "      <th>6</th>\n",
       "      <td>H</td>\n",
       "      <td>HH</td>\n",
       "    </tr>\n",
       "    <tr>\n",
       "      <th>7</th>\n",
       "      <td>H</td>\n",
       "      <td>HH</td>\n",
       "    </tr>\n",
       "    <tr>\n",
       "      <th>8</th>\n",
       "      <td>H</td>\n",
       "      <td>HH</td>\n",
       "    </tr>\n",
       "    <tr>\n",
       "      <th>...</th>\n",
       "      <td>...</td>\n",
       "      <td>...</td>\n",
       "    </tr>\n",
       "    <tr>\n",
       "      <th>999978</th>\n",
       "      <td>H</td>\n",
       "      <td>HH</td>\n",
       "    </tr>\n",
       "    <tr>\n",
       "      <th>999986</th>\n",
       "      <td>H</td>\n",
       "      <td>HH</td>\n",
       "    </tr>\n",
       "    <tr>\n",
       "      <th>999990</th>\n",
       "      <td>H</td>\n",
       "      <td>HH</td>\n",
       "    </tr>\n",
       "    <tr>\n",
       "      <th>999991</th>\n",
       "      <td>H</td>\n",
       "      <td>HH</td>\n",
       "    </tr>\n",
       "    <tr>\n",
       "      <th>999992</th>\n",
       "      <td>H</td>\n",
       "      <td>HH</td>\n",
       "    </tr>\n",
       "  </tbody>\n",
       "</table>\n",
       "<p>250153 rows × 2 columns</p>\n",
       "</div>"
      ],
      "text/plain": [
       "       flip seq2\n",
       "4         H   HH\n",
       "5         H   HH\n",
       "6         H   HH\n",
       "7         H   HH\n",
       "8         H   HH\n",
       "...     ...  ...\n",
       "999978    H   HH\n",
       "999986    H   HH\n",
       "999990    H   HH\n",
       "999991    H   HH\n",
       "999992    H   HH\n",
       "\n",
       "[250153 rows x 2 columns]"
      ]
     },
     "execution_count": 93,
     "metadata": {},
     "output_type": "execute_result"
    }
   ],
   "source": [
    "df_twoheads = df[df[\"seq2\"] == \"HH\"]\n",
    "df_twoheads"
   ]
  },
  {
   "cell_type": "markdown",
   "metadata": {},
   "source": [
    "Finally, we calculate the probability of two heads:"
   ]
  },
  {
   "cell_type": "code",
   "execution_count": 94,
   "metadata": {},
   "outputs": [
    {
     "data": {
      "text/plain": [
       "0.250153"
      ]
     },
     "execution_count": 94,
     "metadata": {},
     "output_type": "execute_result"
    }
   ],
   "source": [
    "P_sim_twoheads = len(df_twoheads) / len(df)\n",
    "P_sim_twoheads"
   ]
  },
  {
   "cell_type": "markdown",
   "metadata": {},
   "source": [
    "### Simulation Error\n",
    "\n",
    "To find the error in a result, we can use the following formula:\n",
    "\n",
    "$$error = \\frac{|actual - expected|}{expected}$$\n",
    "\n",
    "Using the variables you created earlier, `P_twoheads` and `P_sim_twoheads`, calculate the simulation error in the result and store the error in the variable `error`.\n",
    "\n",
    "- Useful Function: The `abs` function in Python can be used to find the absolute value.  For example, `abs(-5)` will return `5`."
   ]
  },
  {
   "cell_type": "code",
   "execution_count": 95,
   "metadata": {},
   "outputs": [
    {
     "data": {
      "text/plain": [
       "0.0006120000000000569"
      ]
     },
     "execution_count": 95,
     "metadata": {},
     "output_type": "execute_result"
    }
   ],
   "source": [
    "error = (abs(P_sim_twoheads - P_twoheads))/P_twoheads\n",
    "error"
   ]
  },
  {
   "cell_type": "code",
   "execution_count": 96,
   "metadata": {},
   "outputs": [
    {
     "name": "stdout",
     "output_type": "stream",
     "text": [
      "Your simulation error was: 0.061%\n"
     ]
    }
   ],
   "source": [
    "print(f\"Your simulation error was: {(error * 100):.3f}%\")"
   ]
  },
  {
   "cell_type": "markdown",
   "metadata": {},
   "source": [
    "### 🔬 Checkpoint Tests 🔬"
   ]
  },
  {
   "cell_type": "code",
   "execution_count": 97,
   "metadata": {},
   "outputs": [
    {
     "name": "stdout",
     "output_type": "stream",
     "text": [
      "🎉 All Tests Passed! 🎉\n"
     ]
    }
   ],
   "source": [
    "## == CHECKPOINT TESTS ==\n",
    "# - This read-only cell contains a \"checkpoint\" for this section of the MicroProejct and verifies you are on the right track.\n",
    "# - If this cell results in a celebration message, you PASSED all test cases!\n",
    "# - If this cell results in any errors, check you previous cells, make changes, and RE-RUN your code and then this cell.\n",
    "import math\n",
    "\n",
    "tada = \"\\N{PARTY POPPER}\"\n",
    "\n",
    "assert((P_twoheads) == 25e-2)\n",
    "\n",
    "assert(\"seq2\" in df)\n",
    "assert((df.loc[:, \"seq2\"].isnull().sum()) == 1)\n",
    "\n",
    "assert(abs(P_sim_twoheads - P_twoheads) < 0.05)\n",
    "assert(error >= 0)\n",
    "assert(math.isclose(error - abs((P_sim_twoheads - P_twoheads)/P_twoheads), 0))\n",
    "\n",
    "print(f\"{tada} All Tests Passed! {tada}\")\n"
   ]
  },
  {
   "cell_type": "markdown",
   "metadata": {},
   "source": [
    "<hr style=\"color: #DD3403;\">"
   ]
  },
  {
   "cell_type": "markdown",
   "metadata": {},
   "source": [
    "## Flipping for Ten Heads in a Row!\n",
    "\n",
    "I think it would be awesome to flip a coin and get ten heads in a row!\n",
    "\n",
    "### Statistical Probability of Ten Heads\n",
    "\n",
    "Before we look at our data, what is the statistical probability of flipping a fair coin ten times and getting ten heads?"
   ]
  },
  {
   "cell_type": "code",
   "execution_count": 98,
   "metadata": {},
   "outputs": [
    {
     "data": {
      "text/plain": [
       "0.0009765625"
      ]
     },
     "execution_count": 98,
     "metadata": {},
     "output_type": "execute_result"
    }
   ],
   "source": [
    "P_tenheads = 0.5**10\n",
    "P_tenheads"
   ]
  },
  {
   "cell_type": "markdown",
   "metadata": {},
   "source": [
    "### Simulation of Ten Heads in a Row\n",
    "\n",
    "Using the same technique as above, create a new column `seq10` that contains the sequence of 10 coin flips that starts with your current observation's coin flip and adds the previous nine coin flips:\n"
   ]
  },
  {
   "cell_type": "code",
   "execution_count": 99,
   "metadata": {},
   "outputs": [
    {
     "data": {
      "text/html": [
       "<div>\n",
       "<style scoped>\n",
       "    .dataframe tbody tr th:only-of-type {\n",
       "        vertical-align: middle;\n",
       "    }\n",
       "\n",
       "    .dataframe tbody tr th {\n",
       "        vertical-align: top;\n",
       "    }\n",
       "\n",
       "    .dataframe thead th {\n",
       "        text-align: right;\n",
       "    }\n",
       "</style>\n",
       "<table border=\"1\" class=\"dataframe\">\n",
       "  <thead>\n",
       "    <tr style=\"text-align: right;\">\n",
       "      <th></th>\n",
       "      <th>flip</th>\n",
       "      <th>seq2</th>\n",
       "      <th>seq10</th>\n",
       "    </tr>\n",
       "  </thead>\n",
       "  <tbody>\n",
       "    <tr>\n",
       "      <th>0</th>\n",
       "      <td>T</td>\n",
       "      <td>NaN</td>\n",
       "      <td>NaN</td>\n",
       "    </tr>\n",
       "    <tr>\n",
       "      <th>1</th>\n",
       "      <td>T</td>\n",
       "      <td>TT</td>\n",
       "      <td>NaN</td>\n",
       "    </tr>\n",
       "    <tr>\n",
       "      <th>2</th>\n",
       "      <td>T</td>\n",
       "      <td>TT</td>\n",
       "      <td>NaN</td>\n",
       "    </tr>\n",
       "    <tr>\n",
       "      <th>3</th>\n",
       "      <td>H</td>\n",
       "      <td>HT</td>\n",
       "      <td>NaN</td>\n",
       "    </tr>\n",
       "    <tr>\n",
       "      <th>4</th>\n",
       "      <td>H</td>\n",
       "      <td>HH</td>\n",
       "      <td>NaN</td>\n",
       "    </tr>\n",
       "    <tr>\n",
       "      <th>...</th>\n",
       "      <td>...</td>\n",
       "      <td>...</td>\n",
       "      <td>...</td>\n",
       "    </tr>\n",
       "    <tr>\n",
       "      <th>999995</th>\n",
       "      <td>T</td>\n",
       "      <td>TT</td>\n",
       "      <td>TTTHHHHTTH</td>\n",
       "    </tr>\n",
       "    <tr>\n",
       "      <th>999996</th>\n",
       "      <td>H</td>\n",
       "      <td>HT</td>\n",
       "      <td>HTTTHHHHTT</td>\n",
       "    </tr>\n",
       "    <tr>\n",
       "      <th>999997</th>\n",
       "      <td>T</td>\n",
       "      <td>TH</td>\n",
       "      <td>THTTTHHHHT</td>\n",
       "    </tr>\n",
       "    <tr>\n",
       "      <th>999998</th>\n",
       "      <td>T</td>\n",
       "      <td>TT</td>\n",
       "      <td>TTHTTTHHHH</td>\n",
       "    </tr>\n",
       "    <tr>\n",
       "      <th>999999</th>\n",
       "      <td>T</td>\n",
       "      <td>TT</td>\n",
       "      <td>TTTHTTTHHH</td>\n",
       "    </tr>\n",
       "  </tbody>\n",
       "</table>\n",
       "<p>1000000 rows × 3 columns</p>\n",
       "</div>"
      ],
      "text/plain": [
       "       flip seq2       seq10\n",
       "0         T  NaN         NaN\n",
       "1         T   TT         NaN\n",
       "2         T   TT         NaN\n",
       "3         H   HT         NaN\n",
       "4         H   HH         NaN\n",
       "...     ...  ...         ...\n",
       "999995    T   TT  TTTHHHHTTH\n",
       "999996    H   HT  HTTTHHHHTT\n",
       "999997    T   TH  THTTTHHHHT\n",
       "999998    T   TT  TTHTTTHHHH\n",
       "999999    T   TT  TTTHTTTHHH\n",
       "\n",
       "[1000000 rows x 3 columns]"
      ]
     },
     "execution_count": 99,
     "metadata": {},
     "output_type": "execute_result"
    }
   ],
   "source": [
    "\n",
    "df[\"seq10\"] = df.flip + df.flip.shift(1) + df.flip.shift(2) + df.flip.shift(3) + df.flip.shift(4) + df.flip.shift(5) + df.flip.shift(6) + df.flip.shift(7) + df.flip.shift(8) + df.flip.shift(9)\n",
    "df"
   ]
  },
  {
   "cell_type": "markdown",
   "metadata": {},
   "source": [
    "### Simulated Probability of Ten Heads\n",
    "\n",
    "Create a new DataFrame `df_tenheads` that contains all sequences of ten heads in a row:"
   ]
  },
  {
   "cell_type": "code",
   "execution_count": 100,
   "metadata": {},
   "outputs": [
    {
     "data": {
      "text/html": [
       "<div>\n",
       "<style scoped>\n",
       "    .dataframe tbody tr th:only-of-type {\n",
       "        vertical-align: middle;\n",
       "    }\n",
       "\n",
       "    .dataframe tbody tr th {\n",
       "        vertical-align: top;\n",
       "    }\n",
       "\n",
       "    .dataframe thead th {\n",
       "        text-align: right;\n",
       "    }\n",
       "</style>\n",
       "<table border=\"1\" class=\"dataframe\">\n",
       "  <thead>\n",
       "    <tr style=\"text-align: right;\">\n",
       "      <th></th>\n",
       "      <th>flip</th>\n",
       "      <th>seq2</th>\n",
       "      <th>seq10</th>\n",
       "    </tr>\n",
       "  </thead>\n",
       "  <tbody>\n",
       "    <tr>\n",
       "      <th>1629</th>\n",
       "      <td>H</td>\n",
       "      <td>HH</td>\n",
       "      <td>HHHHHHHHHH</td>\n",
       "    </tr>\n",
       "    <tr>\n",
       "      <th>1630</th>\n",
       "      <td>H</td>\n",
       "      <td>HH</td>\n",
       "      <td>HHHHHHHHHH</td>\n",
       "    </tr>\n",
       "    <tr>\n",
       "      <th>1631</th>\n",
       "      <td>H</td>\n",
       "      <td>HH</td>\n",
       "      <td>HHHHHHHHHH</td>\n",
       "    </tr>\n",
       "    <tr>\n",
       "      <th>3401</th>\n",
       "      <td>H</td>\n",
       "      <td>HH</td>\n",
       "      <td>HHHHHHHHHH</td>\n",
       "    </tr>\n",
       "    <tr>\n",
       "      <th>3402</th>\n",
       "      <td>H</td>\n",
       "      <td>HH</td>\n",
       "      <td>HHHHHHHHHH</td>\n",
       "    </tr>\n",
       "    <tr>\n",
       "      <th>...</th>\n",
       "      <td>...</td>\n",
       "      <td>...</td>\n",
       "      <td>...</td>\n",
       "    </tr>\n",
       "    <tr>\n",
       "      <th>999278</th>\n",
       "      <td>H</td>\n",
       "      <td>HH</td>\n",
       "      <td>HHHHHHHHHH</td>\n",
       "    </tr>\n",
       "    <tr>\n",
       "      <th>999279</th>\n",
       "      <td>H</td>\n",
       "      <td>HH</td>\n",
       "      <td>HHHHHHHHHH</td>\n",
       "    </tr>\n",
       "    <tr>\n",
       "      <th>999280</th>\n",
       "      <td>H</td>\n",
       "      <td>HH</td>\n",
       "      <td>HHHHHHHHHH</td>\n",
       "    </tr>\n",
       "    <tr>\n",
       "      <th>999281</th>\n",
       "      <td>H</td>\n",
       "      <td>HH</td>\n",
       "      <td>HHHHHHHHHH</td>\n",
       "    </tr>\n",
       "    <tr>\n",
       "      <th>999282</th>\n",
       "      <td>H</td>\n",
       "      <td>HH</td>\n",
       "      <td>HHHHHHHHHH</td>\n",
       "    </tr>\n",
       "  </tbody>\n",
       "</table>\n",
       "<p>996 rows × 3 columns</p>\n",
       "</div>"
      ],
      "text/plain": [
       "       flip seq2       seq10\n",
       "1629      H   HH  HHHHHHHHHH\n",
       "1630      H   HH  HHHHHHHHHH\n",
       "1631      H   HH  HHHHHHHHHH\n",
       "3401      H   HH  HHHHHHHHHH\n",
       "3402      H   HH  HHHHHHHHHH\n",
       "...     ...  ...         ...\n",
       "999278    H   HH  HHHHHHHHHH\n",
       "999279    H   HH  HHHHHHHHHH\n",
       "999280    H   HH  HHHHHHHHHH\n",
       "999281    H   HH  HHHHHHHHHH\n",
       "999282    H   HH  HHHHHHHHHH\n",
       "\n",
       "[996 rows x 3 columns]"
      ]
     },
     "execution_count": 100,
     "metadata": {},
     "output_type": "execute_result"
    }
   ],
   "source": [
    "df_tenheads = df[df[\"seq10\"] == \"HHHHHHHHHH\"]\n",
    "df_tenheads"
   ]
  },
  {
   "cell_type": "markdown",
   "metadata": {},
   "source": [
    "### Finding the Simulation Error\n",
    "\n",
    "First, calculate the simulated probability of getting heads 10 times in a row and store it in `P_sim_tenheads`:"
   ]
  },
  {
   "cell_type": "code",
   "execution_count": 101,
   "metadata": {},
   "outputs": [
    {
     "data": {
      "text/plain": [
       "0.000996"
      ]
     },
     "execution_count": 101,
     "metadata": {},
     "output_type": "execute_result"
    }
   ],
   "source": [
    "P_sim_tenheads = len(df_tenheads)/len(df)\n",
    "P_sim_tenheads"
   ]
  },
  {
   "cell_type": "markdown",
   "metadata": {},
   "source": [
    "\n",
    "Using the variables you created earlier, `P_tenheads` and `P_sim_tenheads`, calculate the simulation error in the result and store the error in the variable `error10`."
   ]
  },
  {
   "cell_type": "code",
   "execution_count": 102,
   "metadata": {},
   "outputs": [
    {
     "data": {
      "text/plain": [
       "0.019903999999999922"
      ]
     },
     "execution_count": 102,
     "metadata": {},
     "output_type": "execute_result"
    }
   ],
   "source": [
    "error10 = (abs(P_sim_tenheads-P_tenheads))/P_tenheads\n",
    "error10"
   ]
  },
  {
   "cell_type": "code",
   "execution_count": 103,
   "metadata": {},
   "outputs": [
    {
     "name": "stdout",
     "output_type": "stream",
     "text": [
      "Analysis: In a simulation of 1000000 coin flips, we flipped heads 10 times in a row a total of 250153 times!\n",
      "Your simulation error for 2 heads in a row was: 0.061%\n",
      "\n",
      "Analysis: In a simulation of 1000000 coin flips, we flipped heads 10 times in a row a total of 996 times!\n",
      "Your simulation error for 10 heads in a row was: 1.990%\n"
     ]
    }
   ],
   "source": [
    "print(f\"Analysis: In a simulation of {len(df)} coin flips, we flipped heads 10 times in a row a total of {len(df_twoheads)} times!\")\n",
    "print(f\"Your simulation error for 2 heads in a row was: {(error * 100):.3f}%\")\n",
    "print()\n",
    "print(f\"Analysis: In a simulation of {len(df)} coin flips, we flipped heads 10 times in a row a total of {len(df_tenheads)} times!\")\n",
    "print(f\"Your simulation error for 10 heads in a row was: {(error10 * 100):.3f}%\")"
   ]
  },
  {
   "cell_type": "markdown",
   "metadata": {},
   "source": [
    "### 🤔 Reflection: Observing the Simulation Error 🤔\n",
    "\n",
    "Press the **\"Run All\"** button at the top of your notebook to run this entire notebook again (and again, about 5 times) and see how the analysis values above change.  Note the trends you see in the percentage errors.\n",
    "\n",
    "Nearly every time you run this noteboook (but not always), the percentage of simulation error for flipping two coins will be **much smaller** than the percentage error in flipping ten coins.\n",
    "\n",
    "The two most significant factors influence lowering simulation error are:\n",
    "\n",
    "1. Number of Simulations -- The more times you run a simulation, the lower your expected simulation error.\n",
    "2. Frequency of Success -- The more common the event happens, the lower your expected simulation error.\n",
    "\n",
    "Since we ran the simulation a large number of times (1,000,000), the error rate for common events (`\"HH\"` happens 25% of the time) will usually be very low.  However, for very rare events (there's only a 1:1024 chance of getting `\"HHHHHHHHHH\"`), the simulation will often be quite high -- even with 1,000,000 simulations."
   ]
  },
  {
   "cell_type": "markdown",
   "metadata": {},
   "source": [
    "### 🔬 Checkpoint Tests 🔬"
   ]
  },
  {
   "cell_type": "code",
   "execution_count": 105,
   "metadata": {},
   "outputs": [
    {
     "name": "stdout",
     "output_type": "stream",
     "text": [
      "🎉 All Tests Passed! 🎉\n"
     ]
    }
   ],
   "source": [
    "## == CHECKPOINT TESTS ==\n",
    "# - This read-only cell contains a \"checkpoint\" for this section of the MicroProejct and verifies you are on the right track.\n",
    "# - If this cell results in a celebration message, you PASSED all test cases!\n",
    "# - If this cell results in any errors, check you previous cells, make changes, and RE-RUN your code and then this cell.\n",
    "import math\n",
    "tada = \"\\N{PARTY POPPER}\"\n",
    "\n",
    "assert(math.isclose((P_tenheads), 9.765625e-4))\n",
    "\n",
    "assert(\"seq10\" in df)\n",
    "assert((df.loc[:, \"seq10\"].isnull().sum()) == 9)\n",
    "\n",
    "assert(len(df_tenheads) > 0)\n",
    "assert(len(df_tenheads) < 10000)\n",
    "assert(len(df[df.loc[:, \"seq10\"] == \"H\" * 10]) == len(df_tenheads))\n",
    "\n",
    "assert(error10 > 0)\n",
    "assert(error10 < 0.5)\n",
    "assert(math.isclose(error10 - abs((P_sim_tenheads - P_tenheads)/P_tenheads), 0))\n",
    "\n",
    "print(f\"{tada} All Tests Passed! {tada}\")"
   ]
  },
  {
   "cell_type": "markdown",
   "metadata": {},
   "source": [
    "<hr style=\"color: #DD3403;\">"
   ]
  },
  {
   "cell_type": "markdown",
   "metadata": {},
   "source": [
    "## Submission\n",
    "\n",
    "You're almost done!  All you need to do is to commit your lab to GitHub and run the GitHub Actions Grader:\n",
    "\n",
    "1.  ⚠️ **Make certain to save your work.** ⚠️ To do this, go to **File => Save All**\n",
    "\n",
    "2.  After you have saved, exit this notebook and follow the instructions to commit and grade this MicroProject on GitHub!\n"
   ]
  }
 ],
 "metadata": {
  "kernelspec": {
   "display_name": "Python 3.10.5 64-bit",
   "language": "python",
   "name": "python3"
  },
  "language_info": {
   "codemirror_mode": {
    "name": "ipython",
    "version": 3
   },
   "file_extension": ".py",
   "mimetype": "text/x-python",
   "name": "python",
   "nbconvert_exporter": "python",
   "pygments_lexer": "ipython3",
   "version": "3.11.1"
  },
  "orig_nbformat": 4,
  "vscode": {
   "interpreter": {
    "hash": "369f2c481f4da34e4445cda3fffd2e751bd1c4d706f27375911949ba6bb62e1c"
   }
  }
 },
 "nbformat": 4,
 "nbformat_minor": 2
}
