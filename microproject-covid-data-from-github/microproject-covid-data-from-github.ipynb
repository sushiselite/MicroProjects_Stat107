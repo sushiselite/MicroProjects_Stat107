{
 "cells": [
  {
   "attachments": {},
   "cell_type": "markdown",
   "metadata": {},
   "source": [
    "<h1 style=\"text-align: center\">\n",
    "<div style=\"color: #DD3403; font-size: 60%\">Data Science DISCOVERY MicroProject</div>\n",
    "<span style=\"\">MicroProject: Exploring COVID-19 Data from GitHub</span>\n",
    "<div style=\"font-size: 60%;\"><a href=\"https://discovery.cs.illinois.edu/microproject/covid-data-from-github/\">https://discovery.cs.illinois.edu/microproject/covid-data-from-github/</a></div>\n",
    "</h1>\n",
    "\n",
    "<hr style=\"color: #DD3403;\">"
   ]
  },
  {
   "cell_type": "markdown",
   "metadata": {},
   "source": [
    "## Data Source: COVID-19 Case Data from Johns Hopkins University, via GitHub\n",
    "\n",
    "Since before COVID-19 was detected in the United States, the Center for Systems Science and Engineering (CSSE) at Johns Hopkins University has provided daily updates of COVID-19 case data as clean, structured CSV files on GitHub as a free public service to the world.\n",
    "\n",
    "You can view their COVID-19 GitHub repository here: [https://github.com/CSSEGISandData/COVID-19](https://github.com/CSSEGISandData/COVID-19).  You can find their daily reports by navigating into their repository:\n",
    "\n",
    "- Click **csse_covid_19_data** to navigate into the `csse_covid_19_data` folder,\n",
    "- Navigate into `csse_covid_19_daily_reports`,\n",
    "- Find the CSV data for **Jan. 3, 2022** *(it'll be near the top, be careful to get the correct year)*\n",
    "- Click the **Raw** button to above the file contents to navigate to the raw CSV version of the file (without the GitHub interface)\n",
    "- Use the URL of the **raw data as your dataset** for this MicroProject.\n",
    "\n",
    "Use panda's `read_csv` function to read the dataset you found and create a DataFrame called `df`:"
   ]
  },
  {
   "cell_type": "code",
   "execution_count": null,
   "metadata": {},
   "outputs": [],
   "source": [
    "df = ...\n",
    "df"
   ]
  },
  {
   "cell_type": "markdown",
   "metadata": {},
   "source": [
    "### 🔬 Checkpoint Tests 🔬"
   ]
  },
  {
   "cell_type": "code",
   "execution_count": null,
   "metadata": {},
   "outputs": [],
   "source": [
    "## == CHECKPOINT TESTS ==\n",
    "# - This read-only cell contains a \"checkpoint\" for this section of the MicroProejct and verifies you are on the right track.\n",
    "# - If this cell results in a celebration message, you PASSED all test cases!\n",
    "# - If this cell results in any errors, check you previous cells, make changes, and RE-RUN your code and then this cell.\n",
    "tada = \"\\N{PARTY POPPER}\"\n",
    "\n",
    "assert(\"df\" in vars())\n",
    "assert(\"Country_Region\" in df)\n",
    "assert(\"People_Hospitalized\" not in df), \"Make sure you have the global daily reports, not just the US daily reports.\"\n",
    "assert(\"India\" in df[\"Country_Region\"].unique())\n",
    "assert(\"2022-01-04\" in df[\"Last_Update\"].unique()[0]), \"Make sure you have the Jan. 3, 2022 CSV file.\"\n",
    "print(f\"{tada} All Tests Passed! {tada}\")"
   ]
  },
  {
   "cell_type": "markdown",
   "metadata": {},
   "source": [
    "<hr style=\"color: #DD3403;\">"
   ]
  },
  {
   "cell_type": "markdown",
   "metadata": {},
   "source": [
    "## Country-Level Analysis of COVID-19\n",
    "\n",
    "The CSV file from JHU provides the **total reported cases over all time until the end of the day on Jan. 3, 2022**.  However, the data is often breaks countries into individual regions.  For example, let's check out the United States.  Create a DataFrame with all records from the dataset with data about the United States in the variable `df_us`:"
   ]
  },
  {
   "cell_type": "code",
   "execution_count": null,
   "metadata": {},
   "outputs": [],
   "source": [
    "df_us = ...\n",
    "df_us"
   ]
  },
  {
   "cell_type": "markdown",
   "metadata": {},
   "source": [
    "### Analysis of COVID-19 in the United States\n",
    "\n",
    "Create a new DataFrame, `df_us_sorted`, that sorts the DataFrame based on the number of confirmed cases of COVID-19 in the United States, where the **first row contains the location with the highest number of confirmed cases**:"
   ]
  },
  {
   "cell_type": "code",
   "execution_count": null,
   "metadata": {},
   "outputs": [],
   "source": [
    "df_us_sorted = ...\n",
    "df_us_sorted"
   ]
  },
  {
   "cell_type": "markdown",
   "metadata": {},
   "source": [
    "### Create a DataFrame for Country Level Analysis\n",
    "\n",
    "Create a new DataFrame, `df_countries`, that aggregates the data within each country together to get a DataFrame that contains one row for each country:"
   ]
  },
  {
   "cell_type": "code",
   "execution_count": null,
   "metadata": {},
   "outputs": [],
   "source": [
    "df_countries = ...\n",
    "df_countries"
   ]
  },
  {
   "cell_type": "markdown",
   "metadata": {},
   "source": [
    "### Performing Country-Level Analysis"
   ]
  },
  {
   "cell_type": "markdown",
   "metadata": {},
   "source": [
    "Create a DataFrame called `df_most_cases` that contains the country which has had the most confirmed cases of COVID-19:"
   ]
  },
  {
   "cell_type": "code",
   "execution_count": null,
   "metadata": {},
   "outputs": [],
   "source": [
    "df_most_cases = ...\n",
    "df_most_cases"
   ]
  },
  {
   "cell_type": "markdown",
   "metadata": {},
   "source": [
    "### 🔬 Checkpoint Tests 🔬"
   ]
  },
  {
   "cell_type": "code",
   "execution_count": null,
   "metadata": {},
   "outputs": [],
   "source": [
    "## == CHECKPOINT TESTS ==\n",
    "# - This read-only cell contains a \"checkpoint\" for this section of the MicroProejct and verifies you are on the right track.\n",
    "# - If this cell results in a celebration message, you PASSED all test cases!\n",
    "# - If this cell results in any errors, check you previous cells, make changes, and RE-RUN your code and then this cell.\n",
    "tada = \"\\N{PARTY POPPER}\"\n",
    "\n",
    "assert(\"df_us\" in vars())\n",
    "assert(\"Province_State\" in df_us)\n",
    "\n",
    "assert(\"df_us_sorted\" in vars())\n",
    "assert(df_us_sorted.iloc[:,-7].values[2] <= df_us_sorted.iloc[:,-7].values[1])\n",
    "assert(df_us_sorted.iloc[:,-7].values[10] <= df_us_sorted.iloc[:,-7].values[9])\n",
    "assert(df_us_sorted[\"Confirmed\"].values[0]) == max(df_us[\"Confirmed\"])\n",
    "\n",
    "assert(\"df_countries\" in vars())\n",
    "assert(df_countries[\"Confirmed\"].sum() == df[\"Confirmed\"].cumsum().values[len(df) - 1])\n",
    "\n",
    "assert(\"df_most_cases\" in vars())\n",
    "assert(len(df_most_cases) == 1)\n",
    "assert(len(df_most_cases.iloc[0][\"Country_Region\"]) == 2)\n",
    "\n",
    "print(f\"{tada} All Tests Passed! {tada}\")\n"
   ]
  },
  {
   "cell_type": "markdown",
   "metadata": {},
   "source": [
    "<hr style=\"color: #DD3403;\">"
   ]
  },
  {
   "cell_type": "markdown",
   "metadata": {},
   "source": [
    "## Checking for the Pareto principle\n",
    "\n",
    "The Pareto principle states that *\"for many outcomes, roughly 80% of consequences come from 20% of causes (the \"vital few\")\"* ([See more on Wikipedia: Pareto principle](https://en.wikipedia.org/wiki/Pareto_principle)).  This is also known as the \"80-20 rule\" and appears often in Data Science.\n",
    "\n",
    "In terms of COVID-19 cases, the application of the Pareto principle would be that **80% of confirmed cases comes from just 20% of countries**.  Is this true?\n",
    "\n",
    "To test this, we need to find total number of cases across all countries.  Compute the total number of confirmed cases in the variable `confirmed_total` (this should be a number, not a DataFrame):"
   ]
  },
  {
   "cell_type": "code",
   "execution_count": null,
   "metadata": {},
   "outputs": [],
   "source": [
    "confirmed_total = ...\n",
    "confirmed_total"
   ]
  },
  {
   "cell_type": "markdown",
   "metadata": {},
   "source": [
    "Using a bit of math, 80% of the total number of confirmed cases would be:"
   ]
  },
  {
   "cell_type": "code",
   "execution_count": null,
   "metadata": {},
   "outputs": [],
   "source": [
    "confirmed_80pct = confirmed_total * 0.8\n",
    "confirmed_80pct"
   ]
  },
  {
   "attachments": {},
   "cell_type": "markdown",
   "metadata": {},
   "source": [
    "### Finding the Cumulative Sum of Cases\n",
    "\n",
    "DataFrames provides the function \"cumulative sum\" function, or `df.cumsum(...)`, that allows us to calculate the sum of every row up until and including the current row.\n",
    "\n",
    "Read the DISCOVERY guide to learn the syntax on \"What is the Cumulative Sum of a pandas DataFrame?\" to find out more on using the cumulative sum function:\n",
    "- [Guide: \"What is the Cumulative Sum of a pandas DataFrame?\"](https://discovery.cs.illinois.edu/guides/DataFrame-Fundamentals/Cumulative-Sum-in-pandas/)\n",
    "\n",
    "Before finding the cumulative sum, we need to have a sorted DataFrame of all countries in descending order.  Use `df_countries` to create a DataFrame sorted by confirmed cases in the variable `df_countries_sorted`:"
   ]
  },
  {
   "cell_type": "code",
   "execution_count": null,
   "metadata": {},
   "outputs": [],
   "source": [
    "df_countries_sorted = ...\n",
    "df_countries_sorted"
   ]
  },
  {
   "cell_type": "markdown",
   "metadata": {},
   "source": [
    "Using `df_countries_sorted`, create a new column called `Cumulative Confirmed` that contains the cumulative sum of the Confirmed cases:"
   ]
  },
  {
   "cell_type": "code",
   "execution_count": null,
   "metadata": {},
   "outputs": [],
   "source": [
    "df_countries_sorted[\"Cumulative Confirmed\"] = ...\n",
    "df_countries_sorted"
   ]
  },
  {
   "cell_type": "markdown",
   "metadata": {},
   "source": [
    "Finally, create a DataFrame called `df_80pct` with all the countries up to the country that, cumulatively, account for 80% of the global cases (remember, that's the cases you stored in `confirmed_80pct`):"
   ]
  },
  {
   "cell_type": "code",
   "execution_count": null,
   "metadata": {},
   "outputs": [],
   "source": [
    "df_80pct = ...\n",
    "df_80pct"
   ]
  },
  {
   "cell_type": "markdown",
   "metadata": {},
   "source": [
    "### Does the Pareto Principle show up?\n",
    "\n",
    "Currently:\n",
    "- `df_countries` contains EVERY country in the world with COVID-19 data, and\n",
    "- `df_80pct` contains countries that make up 80% of the cases.\n",
    "\n",
    "If the Pareto principle applies to the confirmed cases of COVID-19, then we expect that `df_80pct` holds only approximately 20% of all the countries.  Let's see:\n"
   ]
  },
  {
   "cell_type": "code",
   "execution_count": null,
   "metadata": {},
   "outputs": [],
   "source": [
    "pct_cases = 100 * sum(df_80pct[\"Confirmed\"]) / sum(df_countries[\"Confirmed\"])\n",
    "pct_cases = round(pct_cases, 2)\n",
    "\n",
    "pct_countries = 100 * len(df_80pct) / len(df_countries)\n",
    "pct_countries = round(pct_countries, 2)\n",
    "\n",
    "print(f\"Result: {pct_cases}% of the COVID-19 cases comes from {pct_countries}% of the countries in the dataset.\")"
   ]
  },
  {
   "cell_type": "markdown",
   "metadata": {},
   "source": [
    "### 🔬 Checkpoint Tests 🔬"
   ]
  },
  {
   "cell_type": "code",
   "execution_count": null,
   "metadata": {},
   "outputs": [],
   "source": [
    "## == CHECKPOINT TESTS ==\n",
    "# - This read-only cell contains a \"checkpoint\" for this section of the MicroProejct and verifies you are on the right track.\n",
    "# - If this cell results in a celebration message, you PASSED all test cases!\n",
    "# - If this cell results in any errors, check you previous cells, make changes, and RE-RUN your code and then this cell.\n",
    "tada = \"\\N{PARTY POPPER}\"\n",
    "\n",
    "assert(\"confirmed_total\" in vars())\n",
    "assert(\"confirmed_80pct\" in vars())\n",
    "assert(confirmed_total > 2.9e8)\n",
    "                         \n",
    "assert(\"df_countries_sorted\" in vars())\n",
    "assert(\"Cumulative Confirmed\" in df_countries_sorted)\n",
    "assert(\"Admin2\" not in df_countries_sorted)\n",
    "assert(max(df_countries_sorted[\"Cumulative Confirmed\"]) == sum(df_countries_sorted[\"Confirmed\"]))\n",
    "assert(min(df_countries_sorted[\"Cumulative Confirmed\"]) == df_countries_sorted.iloc[0][\"Confirmed\"])\n",
    "\n",
    "assert(\"df_80pct\" in vars())\n",
    "assert(\"US\" in df_80pct[\"Country_Region\"].unique())\n",
    "assert(\"India\" in df_80pct[\"Country_Region\"].unique())\n",
    "assert(\"Tonga\" not in df_80pct[\"Country_Region\"].unique())\n",
    "\n",
    "assert(sum(df_80pct[\"Confirmed\"]) / sum(df_countries[\"Confirmed\"]) > 0.7)\n",
    "assert(sum(df_80pct[\"Confirmed\"]) / sum(df_countries[\"Confirmed\"]) < 0.9)\n",
    "\n",
    "assert(len(df_80pct[\"Confirmed\"]) / len(df_countries[\"Confirmed\"]) > 0.1)\n",
    "assert(len(df_80pct[\"Confirmed\"]) / len(df_countries[\"Confirmed\"]) < 0.2)\n",
    "\n",
    "print(f\"{tada} All Tests Passed! {tada}\")"
   ]
  },
  {
   "cell_type": "markdown",
   "metadata": {},
   "source": [
    "<hr style=\"color: #DD3403;\">"
   ]
  },
  {
   "cell_type": "markdown",
   "metadata": {},
   "source": [
    "## Submission\n",
    "\n",
    "You're almost done!  All you need to do is to commit your lab to GitHub and run the GitHub Actions Grader:\n",
    "\n",
    "1.  ⚠️ **Make certain to save your work.** ⚠️ To do this, go to **File => Save All**\n",
    "\n",
    "2.  After you have saved, exit this notebook and follow the instructions to commit and grade this MicroProject on GitHub!\n"
   ]
  }
 ],
 "metadata": {
  "kernelspec": {
   "display_name": "Python 3.10.5 64-bit",
   "language": "python",
   "name": "python3"
  },
  "language_info": {
   "codemirror_mode": {
    "name": "ipython",
    "version": 3
   },
   "file_extension": ".py",
   "mimetype": "text/x-python",
   "name": "python",
   "nbconvert_exporter": "python",
   "pygments_lexer": "ipython3",
   "version": "3.10.5"
  },
  "orig_nbformat": 4,
  "vscode": {
   "interpreter": {
    "hash": "369f2c481f4da34e4445cda3fffd2e751bd1c4d706f27375911949ba6bb62e1c"
   }
  }
 },
 "nbformat": 4,
 "nbformat_minor": 2
}
