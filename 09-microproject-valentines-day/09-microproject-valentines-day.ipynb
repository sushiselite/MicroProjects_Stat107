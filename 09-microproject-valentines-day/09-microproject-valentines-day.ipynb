{
 "cells": [
  {
   "attachments": {},
   "cell_type": "markdown",
   "metadata": {},
   "source": [
    "<h1 style=\"text-align: center\">\n",
    "<div style=\"color: #DD3403; font-size: 60%\">Data Science DISCOVERY MicroProject #09</div>\n",
    "<span style=\"\">MicroProject: Valentine's Day</span>\n",
    "<div style=\"font-size: 60%;\"><a href=\"https://discovery.cs.illinois.edu/microproject/09-valentines-day/\">https://discovery.cs.illinois.edu/microproject/09-valentines-day/</a></div>\n",
    "</h1>\n",
    "\n",
    "<hr style=\"color: #DD3403;\">"
   ]
  },
  {
   "attachments": {},
   "cell_type": "markdown",
   "metadata": {},
   "source": [
    "# Data Source: The National Retail Federation\n",
    "\n",
    "\n",
    "NRF (National Retail Federation) is the world's largest retail trade association. Its members include department stores, specialty, discount, catalog, Internet, and independent retailers, chain restaurants, grocery stores, and multi-level marketing companies. NRF has surveyed consumers about how they plan to celebrate Valentine’s Day annually for over a decade. This includes consumer spending, gifts purchased, and more! To learn more about the data visit [NRF's website](https://nrf.com/research-insights/holiday-data-and-trends/valentines-day)"
   ]
  },
  {
   "attachments": {},
   "cell_type": "markdown",
   "metadata": {},
   "source": [
    "## Importing the NRF Valentine's Day Dataset\n",
    "\n",
    "The National Retail Federation dataset is included as part of this MicroProject as `valentines_day.csv`.  Import the `valentines_day.csv` into this notebook by reading the CSV into a new DataFrame called `df`:"
   ]
  },
  {
   "cell_type": "code",
   "execution_count": 1,
   "metadata": {},
   "outputs": [],
   "source": [
    "# Import the Valentine's Day dataset:\n",
    "import pandas as pd\n",
    "df = pd.read_csv(\"valentines_day.csv\")"
   ]
  },
  {
   "cell_type": "code",
   "execution_count": 2,
   "metadata": {},
   "outputs": [
    {
     "name": "stdout",
     "output_type": "stream",
     "text": [
      "🎉 All tests passed! 🎉\n"
     ]
    }
   ],
   "source": [
    "## == TEST CASES for Data Import ==\n",
    "# - This read-only cell contains test cases for your previous cell.\n",
    "# - If this cell runs without any errors, you PASSED all test cases!\n",
    "# - If this cell results in any errors, check your previous cell, make changes, and RE-RUN your code and then this cell.\n",
    "assert(\"df\" in vars()), \"Make sure to name the DataFrame df\"\n",
    "assert(len(df) == 13), \"Make sure you read in the correct csv\"\n",
    "\n",
    "## == SUCCESS MESSAGE ==\n",
    "# You will only see this message (with the emoji showing) if you passed all test cases:\n",
    "tada = \"\\N{PARTY POPPER}\"\n",
    "print(f\"{tada} All tests passed! {tada}\")"
   ]
  },
  {
   "attachments": {},
   "cell_type": "markdown",
   "metadata": {},
   "source": [
    "<hr style=\"color: #DD3403;\">"
   ]
  },
  {
   "attachments": {},
   "cell_type": "markdown",
   "metadata": {},
   "source": [
    "## Part 1: Exploratory Data Analysis\n",
    "\n",
    "Before doing any analysis, let's explore the data.  Use `df.columns` to display the columns in the dataset:"
   ]
  },
  {
   "cell_type": "code",
   "execution_count": 3,
   "metadata": {},
   "outputs": [
    {
     "data": {
      "text/plain": [
       "Index(['Year', 'Candy Percentage', 'Flowers Percentage', 'Jewelry Percentage',\n",
       "       'Greeting cards Percentage', 'An evening out Percentage',\n",
       "       'Clothing Percentage', 'Gift cards Percentage', 'Candy Total',\n",
       "       'Flowers Total', 'Jewelry Total', 'Greeting cards Total',\n",
       "       'An evening out Total', 'Clothing Total', 'Gift cards Total',\n",
       "       'Candy Average Spent', 'Flowers Average Spent', 'Jewelry Average Spent',\n",
       "       'Greeting cards Average Spent', 'An evening out Average Spent',\n",
       "       'Clothing Average Spent', 'Gift cards Average Spent',\n",
       "       'Per person Expected Valentines Day Spend'],\n",
       "      dtype='object')"
      ]
     },
     "execution_count": 3,
     "metadata": {},
     "output_type": "execute_result"
    }
   ],
   "source": [
    "df.columns"
   ]
  },
  {
   "attachments": {},
   "cell_type": "markdown",
   "metadata": {},
   "source": [
    "Next, use `df.head()` to explore the first few rows of data:"
   ]
  },
  {
   "cell_type": "code",
   "execution_count": 4,
   "metadata": {},
   "outputs": [
    {
     "data": {
      "text/html": [
       "<div>\n",
       "<style scoped>\n",
       "    .dataframe tbody tr th:only-of-type {\n",
       "        vertical-align: middle;\n",
       "    }\n",
       "\n",
       "    .dataframe tbody tr th {\n",
       "        vertical-align: top;\n",
       "    }\n",
       "\n",
       "    .dataframe thead th {\n",
       "        text-align: right;\n",
       "    }\n",
       "</style>\n",
       "<table border=\"1\" class=\"dataframe\">\n",
       "  <thead>\n",
       "    <tr style=\"text-align: right;\">\n",
       "      <th></th>\n",
       "      <th>Year</th>\n",
       "      <th>Candy Percentage</th>\n",
       "      <th>Flowers Percentage</th>\n",
       "      <th>Jewelry Percentage</th>\n",
       "      <th>Greeting cards Percentage</th>\n",
       "      <th>An evening out Percentage</th>\n",
       "      <th>Clothing Percentage</th>\n",
       "      <th>Gift cards Percentage</th>\n",
       "      <th>Candy Total</th>\n",
       "      <th>Flowers Total</th>\n",
       "      <th>...</th>\n",
       "      <th>Clothing Total</th>\n",
       "      <th>Gift cards Total</th>\n",
       "      <th>Candy Average Spent</th>\n",
       "      <th>Flowers Average Spent</th>\n",
       "      <th>Jewelry Average Spent</th>\n",
       "      <th>Greeting cards Average Spent</th>\n",
       "      <th>An evening out Average Spent</th>\n",
       "      <th>Clothing Average Spent</th>\n",
       "      <th>Gift cards Average Spent</th>\n",
       "      <th>Per person Expected Valentines Day Spend</th>\n",
       "    </tr>\n",
       "  </thead>\n",
       "  <tbody>\n",
       "    <tr>\n",
       "      <th>0</th>\n",
       "      <td>2010</td>\n",
       "      <td>47%</td>\n",
       "      <td>36%</td>\n",
       "      <td>15%</td>\n",
       "      <td>55%</td>\n",
       "      <td>36%</td>\n",
       "      <td>14%</td>\n",
       "      <td>11%</td>\n",
       "      <td>1200000000</td>\n",
       "      <td>1700000000</td>\n",
       "      <td>...</td>\n",
       "      <td>1500000000</td>\n",
       "      <td>1200000000</td>\n",
       "      <td>8.60</td>\n",
       "      <td>12.33</td>\n",
       "      <td>21.52</td>\n",
       "      <td>5.91</td>\n",
       "      <td>23.76</td>\n",
       "      <td>10.93</td>\n",
       "      <td>8.42</td>\n",
       "      <td>103.00</td>\n",
       "    </tr>\n",
       "    <tr>\n",
       "      <th>1</th>\n",
       "      <td>2011</td>\n",
       "      <td>48%</td>\n",
       "      <td>34%</td>\n",
       "      <td>17%</td>\n",
       "      <td>52%</td>\n",
       "      <td>35%</td>\n",
       "      <td>14%</td>\n",
       "      <td>13%</td>\n",
       "      <td>1500000000</td>\n",
       "      <td>1700000000</td>\n",
       "      <td>...</td>\n",
       "      <td>1600000000</td>\n",
       "      <td>1500000000</td>\n",
       "      <td>10.75</td>\n",
       "      <td>12.62</td>\n",
       "      <td>26.18</td>\n",
       "      <td>8.09</td>\n",
       "      <td>24.86</td>\n",
       "      <td>12.00</td>\n",
       "      <td>11.21</td>\n",
       "      <td>116.21</td>\n",
       "    </tr>\n",
       "    <tr>\n",
       "      <th>2</th>\n",
       "      <td>2012</td>\n",
       "      <td>51%</td>\n",
       "      <td>36%</td>\n",
       "      <td>19%</td>\n",
       "      <td>52%</td>\n",
       "      <td>36%</td>\n",
       "      <td>15%</td>\n",
       "      <td>13%</td>\n",
       "      <td>1500000000</td>\n",
       "      <td>1900000000</td>\n",
       "      <td>...</td>\n",
       "      <td>1500000000</td>\n",
       "      <td>1200000000</td>\n",
       "      <td>10.85</td>\n",
       "      <td>13.49</td>\n",
       "      <td>29.60</td>\n",
       "      <td>6.93</td>\n",
       "      <td>25.66</td>\n",
       "      <td>10.42</td>\n",
       "      <td>8.43</td>\n",
       "      <td>126.03</td>\n",
       "    </tr>\n",
       "    <tr>\n",
       "      <th>3</th>\n",
       "      <td>2013</td>\n",
       "      <td>51%</td>\n",
       "      <td>37%</td>\n",
       "      <td>20%</td>\n",
       "      <td>55%</td>\n",
       "      <td>36%</td>\n",
       "      <td>16%</td>\n",
       "      <td>15%</td>\n",
       "      <td>1700000000</td>\n",
       "      <td>1900000000</td>\n",
       "      <td>...</td>\n",
       "      <td>1600000000</td>\n",
       "      <td>1500000000</td>\n",
       "      <td>11.64</td>\n",
       "      <td>13.48</td>\n",
       "      <td>30.94</td>\n",
       "      <td>8.32</td>\n",
       "      <td>27.93</td>\n",
       "      <td>11.46</td>\n",
       "      <td>10.23</td>\n",
       "      <td>130.97</td>\n",
       "    </tr>\n",
       "    <tr>\n",
       "      <th>4</th>\n",
       "      <td>2014</td>\n",
       "      <td>49%</td>\n",
       "      <td>37%</td>\n",
       "      <td>19%</td>\n",
       "      <td>51%</td>\n",
       "      <td>37%</td>\n",
       "      <td>16%</td>\n",
       "      <td>14%</td>\n",
       "      <td>1400000000</td>\n",
       "      <td>1900000000</td>\n",
       "      <td>...</td>\n",
       "      <td>1700000000</td>\n",
       "      <td>1200000000</td>\n",
       "      <td>10.80</td>\n",
       "      <td>15.00</td>\n",
       "      <td>30.58</td>\n",
       "      <td>7.97</td>\n",
       "      <td>27.48</td>\n",
       "      <td>13.37</td>\n",
       "      <td>9.00</td>\n",
       "      <td>133.91</td>\n",
       "    </tr>\n",
       "  </tbody>\n",
       "</table>\n",
       "<p>5 rows × 23 columns</p>\n",
       "</div>"
      ],
      "text/plain": [
       "   Year Candy Percentage Flowers Percentage Jewelry Percentage  \\\n",
       "0  2010              47%                36%                15%   \n",
       "1  2011              48%                34%                17%   \n",
       "2  2012              51%                36%                19%   \n",
       "3  2013              51%                37%                20%   \n",
       "4  2014              49%                37%                19%   \n",
       "\n",
       "  Greeting cards Percentage An evening out Percentage Clothing Percentage  \\\n",
       "0                       55%                       36%                 14%   \n",
       "1                       52%                       35%                 14%   \n",
       "2                       52%                       36%                 15%   \n",
       "3                       55%                       36%                 16%   \n",
       "4                       51%                       37%                 16%   \n",
       "\n",
       "  Gift cards Percentage  Candy Total  Flowers Total  ...  Clothing Total  \\\n",
       "0                   11%   1200000000     1700000000  ...      1500000000   \n",
       "1                   13%   1500000000     1700000000  ...      1600000000   \n",
       "2                   13%   1500000000     1900000000  ...      1500000000   \n",
       "3                   15%   1700000000     1900000000  ...      1600000000   \n",
       "4                   14%   1400000000     1900000000  ...      1700000000   \n",
       "\n",
       "   Gift cards Total  Candy Average Spent  Flowers Average Spent  \\\n",
       "0        1200000000                 8.60                  12.33   \n",
       "1        1500000000                10.75                  12.62   \n",
       "2        1200000000                10.85                  13.49   \n",
       "3        1500000000                11.64                  13.48   \n",
       "4        1200000000                10.80                  15.00   \n",
       "\n",
       "   Jewelry Average Spent  Greeting cards Average Spent  \\\n",
       "0                  21.52                          5.91   \n",
       "1                  26.18                          8.09   \n",
       "2                  29.60                          6.93   \n",
       "3                  30.94                          8.32   \n",
       "4                  30.58                          7.97   \n",
       "\n",
       "   An evening out Average Spent  Clothing Average Spent  \\\n",
       "0                         23.76                   10.93   \n",
       "1                         24.86                   12.00   \n",
       "2                         25.66                   10.42   \n",
       "3                         27.93                   11.46   \n",
       "4                         27.48                   13.37   \n",
       "\n",
       "   Gift cards Average Spent  Per person Expected Valentines Day Spend  \n",
       "0                      8.42                                    103.00  \n",
       "1                     11.21                                    116.21  \n",
       "2                      8.43                                    126.03  \n",
       "3                     10.23                                    130.97  \n",
       "4                      9.00                                    133.91  \n",
       "\n",
       "[5 rows x 23 columns]"
      ]
     },
     "execution_count": 4,
     "metadata": {},
     "output_type": "execute_result"
    }
   ],
   "source": [
    "df.head()"
   ]
  },
  {
   "attachments": {},
   "cell_type": "markdown",
   "metadata": {},
   "source": [
    "## Puzzle 1.1: Setting a custom index column\n",
    "\n",
    "By default, pandas will **default the index column to a numeric index starting with 0**.  However, if one value is uniquely descriptive of the entire row, we may want to use that custom index instead.\n",
    "\n",
    "Since the `Year` column is descriptive of all the data in each row, let's set the `Year` as the index of the DataFrame.  To set an index on a DataFrame, update the DataFrame by using the DataFrame function `df.set_index(index_column_name)` where we replace `index_column_name` with the name of our index.  For example:\n",
    "\n",
    "```\n",
    "df = df.set_index(\"column_name\")\n",
    "```\n",
    "\n",
    "Set the index to be the `Year` column:"
   ]
  },
  {
   "cell_type": "code",
   "execution_count": 5,
   "metadata": {},
   "outputs": [],
   "source": [
    "# Set the index of the DataFrame df to the \"Year\" columns:\n",
    "df = df.set_index('Year')"
   ]
  },
  {
   "cell_type": "code",
   "execution_count": 6,
   "metadata": {},
   "outputs": [
    {
     "name": "stdout",
     "output_type": "stream",
     "text": [
      "🎉 All tests passed! 🎉\n"
     ]
    }
   ],
   "source": [
    "## == TEST CASES for Puzzle 1.1 ==\n",
    "# - This read-only cell contains test cases for your previous cell.\n",
    "# - If this cell runs without any errors, you PASSED all test cases!\n",
    "# - If this cell results in any errors, check your previous cell, make changes, and RE-RUN your code and then this cell.\n",
    "assert(df.iloc[0,0] == \"47%\"), \"Make sure the \\\"Year\\\" column is set as the index\"\n",
    "assert(df.shape[1] == 22), \"Make sure the \\\"Year\\\" column is set as the index\"\n",
    "\n",
    "## == SUCCESS MESSAGE ==\n",
    "# You will only see this message (with the emoji showing) if you passed all test cases:\n",
    "tada = \"\\N{PARTY POPPER}\"\n",
    "print(f\"{tada} All tests passed! {tada}\")"
   ]
  },
  {
   "attachments": {},
   "cell_type": "markdown",
   "metadata": {},
   "source": [
    "## Puzzle 1.2: Finding the Total Amount Spent Each Year\n",
    "\n",
    "Using your list of column names you found earlier, calculate the total amount spent on valentines day each year by summing up all columns that end in the word \"Total\" (ex: \"Candy Total\", \"Flowers Total\", etc).\n",
    "\n",
    "Add this total spending per year data to a new column called `Total Spending` in your DataFrame `df`."
   ]
  },
  {
   "cell_type": "code",
   "execution_count": 9,
   "metadata": {},
   "outputs": [
    {
     "data": {
      "text/plain": [
       "Year\n",
       "2010    12700000000\n",
       "2011    14300000000\n",
       "2012    14800000000\n",
       "2013    16300000000\n",
       "2014    14600000000\n",
       "2015    16700000000\n",
       "2016    17500000000\n",
       "2017    16100000000\n",
       "2018    16500000000\n",
       "2019    15400000000\n",
       "2020    21000000000\n",
       "2021    16800000000\n",
       "2022    21200000000\n",
       "Name: Total Spending, dtype: int64"
      ]
     },
     "execution_count": 9,
     "metadata": {},
     "output_type": "execute_result"
    }
   ],
   "source": [
    "df[\"Total Spending\"] = df[\"Candy Total\"] +df[\"Flowers Total\"] + df[\"Jewelry Total\"] + df[\"Clothing Total\"] + df[\"Gift cards Total\"] + df[\"An evening out Total\"] + df[\"Greeting cards Total\"]\n",
    "df[\"Total Spending\"]"
   ]
  },
  {
   "attachments": {},
   "cell_type": "markdown",
   "metadata": {},
   "source": [
    "## Puzzle 1.3: Finding the year where the most money was spent\n",
    "\n",
    "Using the `\"Total Spending\"` column you just made, find the year that had the largest spending and store it in a DataFrame called, `df_largest_total`"
   ]
  },
  {
   "cell_type": "code",
   "execution_count": 13,
   "metadata": {},
   "outputs": [
    {
     "data": {
      "text/html": [
       "<div>\n",
       "<style scoped>\n",
       "    .dataframe tbody tr th:only-of-type {\n",
       "        vertical-align: middle;\n",
       "    }\n",
       "\n",
       "    .dataframe tbody tr th {\n",
       "        vertical-align: top;\n",
       "    }\n",
       "\n",
       "    .dataframe thead th {\n",
       "        text-align: right;\n",
       "    }\n",
       "</style>\n",
       "<table border=\"1\" class=\"dataframe\">\n",
       "  <thead>\n",
       "    <tr style=\"text-align: right;\">\n",
       "      <th></th>\n",
       "      <th>Candy Percentage</th>\n",
       "      <th>Flowers Percentage</th>\n",
       "      <th>Jewelry Percentage</th>\n",
       "      <th>Greeting cards Percentage</th>\n",
       "      <th>An evening out Percentage</th>\n",
       "      <th>Clothing Percentage</th>\n",
       "      <th>Gift cards Percentage</th>\n",
       "      <th>Candy Total</th>\n",
       "      <th>Flowers Total</th>\n",
       "      <th>Jewelry Total</th>\n",
       "      <th>...</th>\n",
       "      <th>Gift cards Total</th>\n",
       "      <th>Candy Average Spent</th>\n",
       "      <th>Flowers Average Spent</th>\n",
       "      <th>Jewelry Average Spent</th>\n",
       "      <th>Greeting cards Average Spent</th>\n",
       "      <th>An evening out Average Spent</th>\n",
       "      <th>Clothing Average Spent</th>\n",
       "      <th>Gift cards Average Spent</th>\n",
       "      <th>Per person Expected Valentines Day Spend</th>\n",
       "      <th>Total Spending</th>\n",
       "    </tr>\n",
       "    <tr>\n",
       "      <th>Year</th>\n",
       "      <th></th>\n",
       "      <th></th>\n",
       "      <th></th>\n",
       "      <th></th>\n",
       "      <th></th>\n",
       "      <th></th>\n",
       "      <th></th>\n",
       "      <th></th>\n",
       "      <th></th>\n",
       "      <th></th>\n",
       "      <th></th>\n",
       "      <th></th>\n",
       "      <th></th>\n",
       "      <th></th>\n",
       "      <th></th>\n",
       "      <th></th>\n",
       "      <th></th>\n",
       "      <th></th>\n",
       "      <th></th>\n",
       "      <th></th>\n",
       "      <th></th>\n",
       "    </tr>\n",
       "  </thead>\n",
       "  <tbody>\n",
       "    <tr>\n",
       "      <th>2022</th>\n",
       "      <td>56%</td>\n",
       "      <td>37%</td>\n",
       "      <td>22%</td>\n",
       "      <td>40%</td>\n",
       "      <td>31%</td>\n",
       "      <td>22%</td>\n",
       "      <td>21%</td>\n",
       "      <td>2200000000</td>\n",
       "      <td>2300000000</td>\n",
       "      <td>6200000000</td>\n",
       "      <td>...</td>\n",
       "      <td>2300000000</td>\n",
       "      <td>15.9</td>\n",
       "      <td>16.71</td>\n",
       "      <td>45.75</td>\n",
       "      <td>7.47</td>\n",
       "      <td>31.35</td>\n",
       "      <td>21.46</td>\n",
       "      <td>17.22</td>\n",
       "      <td>175.41</td>\n",
       "      <td>21200000000</td>\n",
       "    </tr>\n",
       "  </tbody>\n",
       "</table>\n",
       "<p>1 rows × 23 columns</p>\n",
       "</div>"
      ],
      "text/plain": [
       "     Candy Percentage Flowers Percentage Jewelry Percentage  \\\n",
       "Year                                                          \n",
       "2022              56%                37%                22%   \n",
       "\n",
       "     Greeting cards Percentage An evening out Percentage Clothing Percentage  \\\n",
       "Year                                                                           \n",
       "2022                       40%                       31%                 22%   \n",
       "\n",
       "     Gift cards Percentage  Candy Total  Flowers Total  Jewelry Total  ...  \\\n",
       "Year                                                                   ...   \n",
       "2022                   21%   2200000000     2300000000     6200000000  ...   \n",
       "\n",
       "      Gift cards Total  Candy Average Spent  Flowers Average Spent  \\\n",
       "Year                                                                 \n",
       "2022        2300000000                 15.9                  16.71   \n",
       "\n",
       "      Jewelry Average Spent  Greeting cards Average Spent  \\\n",
       "Year                                                        \n",
       "2022                  45.75                          7.47   \n",
       "\n",
       "      An evening out Average Spent  Clothing Average Spent  \\\n",
       "Year                                                         \n",
       "2022                         31.35                   21.46   \n",
       "\n",
       "      Gift cards Average Spent  Per person Expected Valentines Day Spend  \\\n",
       "Year                                                                       \n",
       "2022                     17.22                                    175.41   \n",
       "\n",
       "      Total Spending  \n",
       "Year                  \n",
       "2022     21200000000  \n",
       "\n",
       "[1 rows x 23 columns]"
      ]
     },
     "execution_count": 13,
     "metadata": {},
     "output_type": "execute_result"
    }
   ],
   "source": [
    "df_largest_total = df.nlargest(1, \"Total Spending\")\n",
    "df_largest_total"
   ]
  },
  {
   "cell_type": "code",
   "execution_count": 14,
   "metadata": {},
   "outputs": [
    {
     "name": "stdout",
     "output_type": "stream",
     "text": [
      "🎉 All tests passed! 🎉\n"
     ]
    }
   ],
   "source": [
    "## == TEST CASES for Puzzle 1.2 and 1.3==\n",
    "# - This read-only cell contains test cases for your previous cell.\n",
    "# - If this cell runs without any errors, you PASSED all test cases!\n",
    "# - If this cell results in any errors, check your previous cell, make changes, and RE-RUN your code and then this cell.\n",
    "\n",
    "assert('Total Spending' in df), \"Make sure you've named the Total Spending column properly and added it to the dataframe\"\n",
    "assert(df['Total Spending'].iloc[0] == 12700000000), \"Double check the values of your Total Spending column\"\n",
    "assert(df_largest_total.iloc[0,0] == \"56%\"), \"Make sure you correctly selected the row with the largest total spending\"\n",
    "assert(df_largest_total.index[0] == 2022), \"Make sure you correctly selected the row with the largest total spending\"\n",
    "## == SUCCESS MESSAGE ==\n",
    "# You will only see this message (with the emoji showing) if you passed all test cases:\n",
    "tada = \"\\N{PARTY POPPER}\"\n",
    "print(f\"{tada} All tests passed! {tada}\")"
   ]
  },
  {
   "attachments": {},
   "cell_type": "markdown",
   "metadata": {},
   "source": [
    "<hr style=\"color: #DD3403;\">"
   ]
  },
  {
   "attachments": {},
   "cell_type": "markdown",
   "metadata": {},
   "source": [
    "# Part 2: Descriptive Statistics\n",
    "\n",
    "Calculate the **mean** for the total spent on flowers into the variable `flowers_mean`"
   ]
  },
  {
   "cell_type": "code",
   "execution_count": 15,
   "metadata": {},
   "outputs": [
    {
     "data": {
      "text/plain": [
       "1976923076.9230769"
      ]
     },
     "execution_count": 15,
     "metadata": {},
     "output_type": "execute_result"
    }
   ],
   "source": [
    "flowers_mean = df[\"Flowers Total\"].mean()\n",
    "flowers_mean"
   ]
  },
  {
   "attachments": {},
   "cell_type": "markdown",
   "metadata": {},
   "source": [
    "Calculate the **mode** for the total spent on clothing into the variable `clothing_mode`"
   ]
  },
  {
   "cell_type": "code",
   "execution_count": 21,
   "metadata": {},
   "outputs": [
    {
     "data": {
      "text/plain": [
       "0    1500000000\n",
       "1    1600000000\n",
       "2    1900000000\n",
       "3    2000000000\n",
       "4    2900000000\n",
       "Name: Clothing Total, dtype: int64"
      ]
     },
     "execution_count": 21,
     "metadata": {},
     "output_type": "execute_result"
    }
   ],
   "source": [
    "clothing_mode = df[\"Clothing Total\"].mode()\n",
    "clothing_mode"
   ]
  },
  {
   "attachments": {},
   "cell_type": "markdown",
   "metadata": {},
   "source": [
    "Calculate the **median** for the total spent on candy into the variable `candy_median`"
   ]
  },
  {
   "cell_type": "code",
   "execution_count": 26,
   "metadata": {},
   "outputs": [
    {
     "data": {
      "text/plain": [
       "1700000000.0"
      ]
     },
     "execution_count": 26,
     "metadata": {},
     "output_type": "execute_result"
    }
   ],
   "source": [
    "candy_median = df[\"Candy Total\"].median()\n",
    "candy_median"
   ]
  },
  {
   "attachments": {},
   "cell_type": "markdown",
   "metadata": {},
   "source": [
    "Calculate the **standard deviation** for the total spent on jewelry and save into the variable `jewelry_std`"
   ]
  },
  {
   "cell_type": "code",
   "execution_count": 24,
   "metadata": {},
   "outputs": [
    {
     "data": {
      "text/plain": [
       "861647200.0975211"
      ]
     },
     "execution_count": 24,
     "metadata": {},
     "output_type": "execute_result"
    }
   ],
   "source": [
    "jewelry_std = df[\"Jewelry Total\"].std()\n",
    "jewelry_std"
   ]
  },
  {
   "cell_type": "code",
   "execution_count": 27,
   "metadata": {},
   "outputs": [
    {
     "name": "stdout",
     "output_type": "stream",
     "text": [
      "🎉 All tests passed! 🎉\n"
     ]
    }
   ],
   "source": [
    "## == TEST CASES for Puzzle 1.2 and 1.3==\n",
    "# - This read-only cell contains test cases for your previous cell.\n",
    "# - If this cell runs without any errors, you PASSED all test cases!\n",
    "# - If this cell results in any errors, check your previous cell, make changes, and RE-RUN your code and then this cell.\n",
    "import math\n",
    "\n",
    "assert(flowers_mean == df[\"Flowers Total\"].sum() / df[\"Flowers Total\"].count()), \"Make sure you're using the correct formula to calculate the mean\"\n",
    "assert(clothing_mode[2] == df[\"Clothing Total\"].mode()[2]), \"Make sure you're using the correct formula to calculate the mode\"\n",
    "assert(clothing_mode[3] == df[\"Clothing Total\"].mode()[3]), \"Make sure you're using the correct formula to calculate the mode\"\n",
    "assert(candy_median == df[\"Candy Total\"].sort_values().iloc[int(len(df[\"Candy Total\"].sort_values())/2)]), \"Make sure you're using the correct formula to calculate the median\"\n",
    "assert(math.isclose(jewelry_std, 861647200.097521)), \"Make sure you're using the correct formula to calculate the standard deviation\"\n",
    "\n",
    "## == SUCCESS MESSAGE ==\n",
    "# You will only see this message (with the emoji showing) if you passed all test cases:\n",
    "tada = \"\\N{PARTY POPPER}\"\n",
    "print(f\"{tada} All tests passed! {tada}\")"
   ]
  },
  {
   "attachments": {},
   "cell_type": "markdown",
   "metadata": {},
   "source": [
    "<hr style=\"color: #DD3403;\">"
   ]
  },
  {
   "attachments": {},
   "cell_type": "markdown",
   "metadata": {},
   "source": [
    "# Part 3: Analysis\n",
    "\n",
    "Use `df.plot.line()` to create a line plot of your data.\n",
    "\n",
    "- By default, `df.plot.line()` will have use the **index column** as the x-axis.  Since we set that to `\"Year\"` earlier, we do not need to specify an `x` value and pandas will use our index.\n",
    "- However, `df.plot.line()` requires a column for the `y` axis.  To specify the column to use, provide the column name as a string to the function as the `y` parameter.\n",
    "\n",
    "A plot of the total spending on flowers could be created with:\n",
    "\n",
    "```\n",
    "df.plot.line(\"Flowers Total\")\n",
    "```\n",
    "\n",
    "## Your Turn:\n",
    "\n",
    "Create a line graph using the `\"Per person Expected Valentines Day Spend\"` column:"
   ]
  },
  {
   "cell_type": "code",
   "execution_count": 31,
   "metadata": {},
   "outputs": [
    {
     "data": {
      "text/plain": [
       "<Axes: xlabel='Per person Expected Valentines Day Spend'>"
      ]
     },
     "execution_count": 31,
     "metadata": {},
     "output_type": "execute_result"
    },
    {
     "data": {
      "image/png": "[encoded data removed]",
      "text/plain": [
       "<Figure size 640x480 with 1 Axes>"
      ]
     },
     "metadata": {},
     "output_type": "display_data"
    }
   ],
   "source": [
    "# Create a line plot of expected valentines day spend per person:\n",
    "import matplotlib\n",
    "df.plot.line(\"Per person Expected Valentines Day Spend\")"
   ]
  },
  {
   "attachments": {},
   "cell_type": "markdown",
   "metadata": {},
   "source": [
    "<hr style=\"color: #DD3403;\">"
   ]
  },
  {
   "attachments": {},
   "cell_type": "markdown",
   "metadata": {},
   "source": [
    "## Submission\n",
    "\n",
    "You're almost done!  All you need to do is to commit your lab to GitHub and run the GitHub Actions Grader:\n",
    "\n",
    "1.  ⚠️ **Make certain to save your work.** ⚠️ To do this, go to **File => Save All**\n",
    "\n",
    "2.  After you have saved, exit this notebook and follow the instructions to commit and grade this MicroProject!"
   ]
  }
 ],
 "metadata": {
  "kernelspec": {
   "display_name": "Python 3",
   "language": "python",
   "name": "python3"
  },
  "language_info": {
   "codemirror_mode": {
    "name": "ipython",
    "version": 3
   },
   "file_extension": ".py",
   "mimetype": "text/x-python",
   "name": "python",
   "nbconvert_exporter": "python",
   "pygments_lexer": "ipython3",
   "version": "3.10.5"
  },
  "orig_nbformat": 4,
  "vscode": {
   "interpreter": {
    "hash": "369f2c481f4da34e4445cda3fffd2e751bd1c4d706f27375911949ba6bb62e1c"
   }
  }
 },
 "nbformat": 4,
 "nbformat_minor": 2
}
