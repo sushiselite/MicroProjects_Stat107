{
 "cells": [
  {
   "attachments": {},
   "cell_type": "markdown",
   "metadata": {},
   "source": [
    "<h1 style=\"text-align: center\">\n",
    "<div style=\"color: #DD3403; font-size: 60%\">Data Science DISCOVERY MicroProject</div>\n",
    "<span style=\"\">MicroProject: DataFrame of Your NWS Weather Forecast</span>\n",
    "<div style=\"font-size: 60%;\"><a href=\"https://discovery.cs.illinois.edu/microproject/dataframe-nws-weather-forecast/\">https://discovery.cs.illinois.edu/microproject/dataframe-nws-weather-forecast/</a></div>\n",
    "</h1>\n",
    "\n",
    "<hr style=\"color: #DD3403;\">"
   ]
  },
  {
   "cell_type": "markdown",
   "metadata": {},
   "source": [
    "## Data API: National Weather Service (NWS) Weather Forecast\n",
    "\n",
    "The National Weather Service allows, for free, \"developers access to critical forecasts, alerts, and observations, along with other weather data.\"  You can find the full documentation of their API at: [https://www.weather.gov/documentation/services-web-api](https://www.weather.gov/documentation/services-web-api).\n",
    "\n",
    "Since weather data is based on your location, you need to find the latitude and longitude of coordinate of your location!\n",
    "\n",
    "- One quick way to do this is to pull up [Google Maps](https://maps.google.com/) and **right click** on a location.\n",
    "- The first option will be the `latitude, longitude` of the location of your click on the map.  You can click it to copy it to your clipboard!\n",
    "\n",
    "Once you have your location, add each component to a variable below:"
   ]
  },
  {
   "cell_type": "code",
   "execution_count": null,
   "metadata": {},
   "outputs": [],
   "source": [
    "latitude = ...\n",
    "longitude = ..."
   ]
  },
  {
   "attachments": {},
   "cell_type": "markdown",
   "metadata": {},
   "source": [
    "### Finding Your Forecast Area\n",
    "\n",
    "The National Weather Service API provides a `/points/` endpoint that uses the `latitude,longitude` value to return a weather forecast.  The full URL for this endpoint is in the following format:\n",
    "\n",
    "```\n",
    "https://api.weather.gov/points/LATITUDE,LONGITUDE\n",
    "```\n",
    "\n",
    "This endpoint also returns a JSON instead of a CSV.  Here's q uick summary of loading a JSON instead of a CSV:\n",
    "\n",
    "- Using pandas, use `pd.read_json` to read a JSON (including this JSON that includes the weather in your location).\n",
    "- Make sure to replace `LATITUDE` and `LONGITUDE` in the URL with your actual latitude and longitude.\n",
    "- This JSON is organized as a **series**.  As a parameter to `read_json`, make sure to include `typ=\"series\"`.\n",
    "- For example: `pd.read_json(..., typ=\"series\")`.\n",
    "\n",
    "Store the result in a variable named `pointsJSON`:"
   ]
  },
  {
   "cell_type": "code",
   "execution_count": null,
   "metadata": {},
   "outputs": [],
   "source": [
    "import pandas as pd\n",
    "pointsJSON = ...\n",
    "pointsJSON"
   ]
  },
  {
   "attachments": {},
   "cell_type": "markdown",
   "metadata": {},
   "source": [
    "### Finding Your Forecast URL\n",
    "\n",
    "The JSON you just loaded has multiple fields including two fields with data:\n",
    "\n",
    "- `geometry`, which include the geometric area for the result (you supplied a single point, but weather forecasts are given for areas that can be many square miles)\n",
    "- `properties`, which includes all properties about the location you requested\n",
    "\n",
    "You can inspect the data further by running `pointsJSON[\"geometry\"]` or `pointsJSON[\"properties\"]`.  Inspect the **properties** and look for the URL that provides the **hourly forecast**.\n"
   ]
  },
  {
   "cell_type": "code",
   "execution_count": null,
   "metadata": {},
   "outputs": [],
   "source": []
  },
  {
   "cell_type": "markdown",
   "metadata": {},
   "source": [
    "### Record Your Forecast URL\n",
    "\n",
    "Finally, record the URL that you can use to find the hourly forecast for your location:"
   ]
  },
  {
   "cell_type": "code",
   "execution_count": null,
   "metadata": {},
   "outputs": [],
   "source": [
    "hourlyForecastURL = \"\"\n",
    "hourlyForecastURL"
   ]
  },
  {
   "cell_type": "markdown",
   "metadata": {},
   "source": [
    "<hr style=\"color: #DD3403;\">"
   ]
  },
  {
   "cell_type": "markdown",
   "metadata": {},
   "source": [
    "## Puzzle 1: Loading Your Weather Forecast as a DataFrame\n",
    "\n",
    "In the same way as you did in the beginning of this MicroProject, use the hourlyForecastURL and `pd.read_json` to load the your weather forecast.  Store your result in the variable `forecastJSON`:"
   ]
  },
  {
   "cell_type": "code",
   "execution_count": null,
   "metadata": {},
   "outputs": [],
   "source": [
    "forecastJSON = ...\n",
    "forecastJSON"
   ]
  },
  {
   "attachments": {},
   "cell_type": "markdown",
   "metadata": {},
   "source": [
    "### Finding the Forecast Data\n",
    "\n",
    "Inside of the `properties` data within `forecastJSON`, the `periods` data provides a **well-defined, structured** set of data that contains the forecast for every hour for your location.\n",
    "\n",
    "Check out how it looks in the raw form:"
   ]
  },
  {
   "cell_type": "code",
   "execution_count": null,
   "metadata": {},
   "outputs": [],
   "source": [
    "forecastJSON"
   ]
  },
  {
   "attachments": {},
   "cell_type": "markdown",
   "metadata": {},
   "source": [
    "Going deeper, the `properties` key has data related to the hourly forecast.  To view that, we can view `forecastJSON[\"properties\"]`:"
   ]
  },
  {
   "cell_type": "code",
   "execution_count": null,
   "metadata": {},
   "outputs": [],
   "source": [
    "forecastJSON[\"properties\"]"
   ]
  },
  {
   "attachments": {},
   "cell_type": "markdown",
   "metadata": {},
   "source": [
    "Finally, going even deeper, the `periods` key contains a data for each forecast period (each hour).  This is viewed by going two levels deep or `forecastJSON[\"properties\"][\"periods\"]`:"
   ]
  },
  {
   "cell_type": "code",
   "execution_count": null,
   "metadata": {},
   "outputs": [],
   "source": [
    "forecastJSON[\"properties\"][\"periods\"]"
   ]
  },
  {
   "cell_type": "markdown",
   "metadata": {},
   "source": [
    "### Loading the Data at a DataFrame\n",
    "\n",
    "Since we have **clean, structured data**, we can read it into pandas!  The code below creates a DataFrame out of the above data by using the `pd.DataFrame` command:"
   ]
  },
  {
   "cell_type": "code",
   "execution_count": null,
   "metadata": {},
   "outputs": [],
   "source": [
    "df = pd.DataFrame(forecastJSON[\"properties\"][\"periods\"])\n",
    "df"
   ]
  },
  {
   "cell_type": "markdown",
   "metadata": {},
   "source": [
    "<hr style=\"color: #DD3403;\">"
   ]
  },
  {
   "cell_type": "markdown",
   "metadata": {},
   "source": [
    "## Puzzle 2: Exploring Your Weather\n",
    "\n",
    "Now that you have the weather forecast for **your location** loaded into the DataFrame `df`, it's time to nerd out with it!"
   ]
  },
  {
   "cell_type": "markdown",
   "metadata": {},
   "source": [
    "### Your Warmest Upcoming Temperature\n",
    "\n",
    "Using your data, find the warmest temperature in the entire forecast!  Save that row as `df_warmest`:"
   ]
  },
  {
   "cell_type": "code",
   "execution_count": null,
   "metadata": {},
   "outputs": [],
   "source": [
    "df_warmest = ...\n",
    "df_warmest"
   ]
  },
  {
   "cell_type": "markdown",
   "metadata": {},
   "source": [
    "### Your Coldest Upcoming Temperature\n",
    "\n",
    "Using your data, find the coldest temperature in the entire forecast!  Save that row as `df_coldest`:"
   ]
  },
  {
   "cell_type": "code",
   "execution_count": null,
   "metadata": {},
   "outputs": [],
   "source": [
    "df_coldest = ...\n",
    "df_coldest"
   ]
  },
  {
   "attachments": {},
   "cell_type": "markdown",
   "metadata": {},
   "source": [
    "### Hours of Sky Conditions\n",
    "\n",
    "The `shortForecast` column provides a brief summary of the forecasted condition of the sky for each hour.  Create a DataFrame that contains a summary of upcoming sky conditions in only two columns:\n",
    "\n",
    "- `shortForecast`, and\n",
    "- `count`, containing the number of times that `shortForecast` appears in the forecast\n",
    "\n",
    "That means the summary will have the following structure:\n",
    "\n",
    "|    | shortForecast | count |\n",
    "| -- | ------------- | ----- |\n",
    "|  0 | Chance Light Rain | 6 |\n",
    "|  1 | Mostly Clear\t| 11 |\n",
    "| ... | ... | ... |\n",
    "\n",
    "Save the summary in the `skySummary` variable:"
   ]
  },
  {
   "cell_type": "code",
   "execution_count": null,
   "metadata": {},
   "outputs": [],
   "source": [
    "skySummary = ..."
   ]
  },
  {
   "cell_type": "markdown",
   "metadata": {},
   "source": [
    "<hr style=\"color: #DD3403;\">"
   ]
  },
  {
   "cell_type": "markdown",
   "metadata": {},
   "source": [
    "## Puzzle 3: Create a Scatter Plot\n",
    "\n",
    "Finally, let's create a scatter plot of your forecast!\n",
    "\n",
    "Using `df.plot.scatter`, you must specify the `x` column name and `y` column name for your scatter plot to use the command:\n",
    "\n",
    "```\n",
    "df.plot.scatter(x=\"x-column\", y=\"y-column\")\n",
    "```\n",
    "\n",
    "Using your weather forecast:\n",
    "\n",
    "- Use the starting date of the forecast as your `x` value,\n",
    "- Use the temperature as your `y` value,\n",
    "- Create your scatter plot! :)"
   ]
  },
  {
   "cell_type": "code",
   "execution_count": null,
   "metadata": {},
   "outputs": [],
   "source": []
  },
  {
   "cell_type": "markdown",
   "metadata": {},
   "source": [
    "<hr style=\"color: #DD3403;\">"
   ]
  },
  {
   "cell_type": "markdown",
   "metadata": {},
   "source": [
    "## 🔬 Microproject Checkpoint Tests 🔬"
   ]
  },
  {
   "cell_type": "code",
   "execution_count": null,
   "metadata": {},
   "outputs": [],
   "source": [
    "## == CHECKPOINT TEST CASES ==\n",
    "# - This read-only cell contains test cases for the microproject.\n",
    "# - If this cell runs without any error in the output, you PASSED all test cases!\n",
    "# - If this cell results in any errors, check you previous cells, make changes, and RE-RUN your code and then this cell.\n",
    "tada = \"\\N{PARTY POPPER}\"\n",
    "\n",
    "assert(\"/points/\" in pointsJSON[\"id\"])\n",
    "assert(f\"/{int(latitude)}\" in pointsJSON[\"id\"])\n",
    "assert(f\",{int(longitude)}\" in pointsJSON[\"id\"])\n",
    "assert(\"/gridpoints/\" in hourlyForecastURL)\n",
    "assert(\"/forecast/hourly\" in hourlyForecastURL)\n",
    "print(f\"{tada} Data API: All Tests Passed! {tada}\")\n",
    "\n",
    "\n",
    "assert(\"df\" in vars())\n",
    "assert(\"startTime\" in df)\n",
    "assert(\"temperature\" in df)\n",
    "print(f\"{tada} Puzzle 1: All Tests Passed! {tada}\")\n",
    "\n",
    "\n",
    "assert( len(df_warmest) == 1 )\n",
    "assert( df_warmest[\"temperature\"].values[0] == max(df[\"temperature\"]) )\n",
    "\n",
    "assert( len(df_coldest) == 1 )\n",
    "assert( df_coldest[\"temperature\"].values[0] == min(df[\"temperature\"]) )\n",
    "\n",
    "assert( len(skySummary) == len(df[\"shortForecast\"].unique()) )\n",
    "pd.testing.assert_frame_equal(skySummary.sort_values([\"count\", \"shortForecast\"]).set_index(\"shortForecast\"), pd.DataFrame(df[\"shortForecast\"].value_counts()).reset_index().rename({\"index\": \"shortForecast\", \"shortForecast\": \"count\"}, axis=1).sort_values([\"count\", \"shortForecast\"]).set_index(\"shortForecast\")), \"Your skySummary is incorrect.\"\n",
    "print(f\"{tada} Puzzle 2: All Tests Passed! {tada}\")\n",
    "\n",
    "print(f\"{tada}{tada} All Tests Passed! {tada}{tada}\")"
   ]
  },
  {
   "cell_type": "markdown",
   "metadata": {},
   "source": [
    "<hr style=\"color: #DD3403;\">"
   ]
  },
  {
   "cell_type": "markdown",
   "metadata": {},
   "source": [
    "## Submission\n",
    "\n",
    "You're almost done!  All you need to do is to commit your lab to GitHub and run the GitHub Actions Grader:\n",
    "\n",
    "1.  ⚠️ **Make certain to save your work.** ⚠️ To do this, go to **File => Save All**\n",
    "\n",
    "2.  After you have saved, exit this notebook and follow the instructions to commit and grade this MicroProject!\n"
   ]
  }
 ],
 "metadata": {
  "kernelspec": {
   "display_name": "Python 3.10.6 64-bit",
   "language": "python",
   "name": "python3"
  },
  "language_info": {
   "codemirror_mode": {
    "name": "ipython",
    "version": 3
   },
   "file_extension": ".py",
   "mimetype": "text/x-python",
   "name": "python",
   "nbconvert_exporter": "python",
   "pygments_lexer": "ipython3",
   "version": "3.10.5"
  },
  "orig_nbformat": 4,
  "vscode": {
   "interpreter": {
    "hash": "369f2c481f4da34e4445cda3fffd2e751bd1c4d706f27375911949ba6bb62e1c"
   }
  }
 },
 "nbformat": 4,
 "nbformat_minor": 2
}
